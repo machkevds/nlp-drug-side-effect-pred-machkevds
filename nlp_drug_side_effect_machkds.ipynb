{
  "nbformat": 4,
  "nbformat_minor": 0,
  "metadata": {
    "colab": {
      "provenance": [],
      "authorship_tag": "ABX9TyOppTuWUKMUxBAdZ1xWu8S7"
    },
    "kernelspec": {
      "name": "python3",
      "display_name": "Python 3"
    },
    "language_info": {
      "name": "python"
    }
  },
  "cells": [
    {
      "cell_type": "code",
      "execution_count": null,
      "metadata": {
        "id": "4rxUO7ClbglT"
      },
      "outputs": [],
      "source": []
    },
    {
      "cell_type": "markdown",
      "source": [
        "---"
      ],
      "metadata": {
        "id": "dci-84AGbrAW"
      }
    },
    {
      "cell_type": "code",
      "source": [],
      "metadata": {
        "id": "hJRjH6kBbrZE"
      },
      "execution_count": null,
      "outputs": []
    },
    {
      "cell_type": "markdown",
      "source": [
        "---"
      ],
      "metadata": {
        "id": "73grnqA8br5a"
      }
    },
    {
      "cell_type": "code",
      "source": [],
      "metadata": {
        "id": "0jXp-SIEbsOb"
      },
      "execution_count": null,
      "outputs": []
    }
  ]
}